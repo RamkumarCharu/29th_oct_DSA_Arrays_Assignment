{
 "cells": [
  {
   "cell_type": "code",
   "execution_count": 1,
   "metadata": {},
   "outputs": [
    {
     "name": "stdout",
     "output_type": "stream",
     "text": [
      "True\n",
      "True\n",
      "True\n"
     ]
    }
   ],
   "source": [
    "# 1. Given an array, check if it contains any duplicates or not.\n",
    "\n",
    "arr1 = [1, 2, 4, 2, 5, 9]\n",
    "\n",
    "# check using Set\n",
    "def has_duplicates1(arr):\n",
    "    return len(arr) != len(set(arr))\n",
    "\n",
    "print(has_duplicates1(arr1))  # Output: True\n",
    "\n",
    "\n",
    "#check using counter\n",
    "from collections import Counter\n",
    "\n",
    "def has_duplicates2(arr):\n",
    "    counts = Counter(arr)\n",
    "    return any(count > 1 for count in counts.values())\n",
    "\n",
    "print(has_duplicates2(arr1))  # Output: True\n",
    "\n",
    "\n",
    "# using SET\n",
    "def has_duplicates3(arr):\n",
    "    seen = set()\n",
    "    for item in arr:\n",
    "        if item in seen:\n",
    "            return True\n",
    "        seen.add(item)\n",
    "    return False\n",
    "\n",
    "\n",
    "print(has_duplicates3(arr1))  # Output: True"
   ]
  },
  {
   "cell_type": "code",
   "execution_count": 2,
   "metadata": {},
   "outputs": [
    {
     "name": "stdout",
     "output_type": "stream",
     "text": [
      "[5, 6, 7, 8, 9, 10, 1, 2, 3, 4, 5, 6, 7]\n"
     ]
    },
    {
     "data": {
      "text/plain": [
       "[8, 9, 10, 1, 2, 3, 4, 5, 6, 7]"
      ]
     },
     "execution_count": 2,
     "metadata": {},
     "output_type": "execute_result"
    }
   ],
   "source": [
    "# 2. Given an array and an integer k, rotate the array to the right by k steps.\n",
    "# k = 3\n",
    "# arr = [1, 2, 3, 4, 5, 6, 7] \n",
    "# Output = [5, 6, 7, 1, 2, 3, 4]\n",
    "\n",
    "arr2 = [1, 2, 3, 4, 5, 6, 7,8,9,10] \n",
    "\n",
    "k=3\n",
    "arr2_1 = []\n",
    "# using 2 loops..!\n",
    "def rotate(arr):\n",
    "    for i in range(len(arr2)):\n",
    "        if i>k:\n",
    "            arr2_1.append(arr[i])\n",
    "    for i in range(len(arr2)-k):\n",
    "        arr2_1.append(arr2[i])\n",
    "    print(arr2_1)\n",
    "\n",
    "# Another method\n",
    "def rotate1(arr, k):\n",
    "    n = len(arr)\n",
    "   # k = k % n  \n",
    "    rotated_list = arr[-k:] + arr[:-k]\n",
    "    return rotated_list\n",
    "\n",
    "rotate(arr2)\n",
    "rotate1(arr2,k)\n",
    "########################################################################################\n",
    "\n"
   ]
  },
  {
   "cell_type": "code",
   "execution_count": 3,
   "metadata": {},
   "outputs": [
    {
     "name": "stdout",
     "output_type": "stream",
     "text": [
      "[12, 9, 7, 5, 4, 2]\n"
     ]
    }
   ],
   "source": [
    "# 3. Reverse the given array in-place, means without using any extra data structure.\n",
    "\n",
    "arr = [2, 4, 5, 7, 9, 12]\n",
    "\n",
    "output = arr[::-1]\n",
    "print(output)\n"
   ]
  },
  {
   "cell_type": "code",
   "execution_count": 13,
   "metadata": {},
   "outputs": [
    {
     "name": "stdout",
     "output_type": "stream",
     "text": [
      "20\n",
      "20\n"
     ]
    }
   ],
   "source": [
    "# 4. Given an array of integers, find the maximum element in an array\n",
    "arr = [10, 5, 20, 8, 15]\n",
    "\n",
    "# with loop\n",
    "\n",
    "def get_max(arr):\n",
    "    max_item = 0\n",
    "    for item in arr:\n",
    "        if item>max_item:\n",
    "            max_item = item\n",
    "    return max_item\n",
    "print(get_max(arr))\n",
    "\n",
    "#without loop\n",
    "print(max(arr))"
   ]
  },
  {
   "cell_type": "code",
   "execution_count": 18,
   "metadata": {},
   "outputs": [
    {
     "name": "stdout",
     "output_type": "stream",
     "text": [
      "with dups [1, 1, 2, 2, 2, 3, 3, 4, 4, 4, 5, 5]\n",
      "without dups {1, 2, 3, 4, 5}\n",
      "*******************************\n",
      "[4, 5, 1, 2, 6, 7, 8, 3]\n"
     ]
    }
   ],
   "source": [
    "# 5. Given a sorted array, remove the duplicate element without using any extra data structure.\n",
    "arr = [1, 1, 2, 2, 2, 3, 3, 4, 4, 4, 5, 5]\n",
    "\n",
    "# method1\n",
    "rem_dup = set(arr)\n",
    "print(f'with dups {arr}')\n",
    "print(f'without dups {rem_dup}')\n",
    "print('*******************************')\n",
    "\n",
    "#method2\n",
    "def remove_duplicates(lst):\n",
    "    index = 0\n",
    "    while index < len(lst):\n",
    "        current_element = lst[index]\n",
    "        # Check if the current element appears later in the list\n",
    "        if current_element in lst[index + 1:]:\n",
    "            # Remove the first occurrence of the current element\n",
    "            lst.remove(current_element)\n",
    "        else:\n",
    "            # Move to the next element if no duplicates are found\n",
    "            index += 1\n",
    "\n",
    "# Example usage:\n",
    "arr1 = [1, 2, 3, 4, 5, 1, 2, 6, 7, 8, 3]\n",
    "remove_duplicates(arr1)\n",
    "print(arr1)\n"
   ]
  }
 ],
 "metadata": {
  "kernelspec": {
   "display_name": "mycondaenv",
   "language": "python",
   "name": "python3"
  },
  "language_info": {
   "codemirror_mode": {
    "name": "ipython",
    "version": 3
   },
   "file_extension": ".py",
   "mimetype": "text/x-python",
   "name": "python",
   "nbconvert_exporter": "python",
   "pygments_lexer": "ipython3",
   "version": "3.10.12"
  },
  "orig_nbformat": 4
 },
 "nbformat": 4,
 "nbformat_minor": 2
}
